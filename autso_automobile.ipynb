{
 "cells": [
  {
   "cell_type": "markdown",
   "id": "66195c10",
   "metadata": {},
   "source": [
    "Analysts are required to explore data and reflect on the insights. Clear writing skill is an integral part of a good report. Note that the explanations must be such that readers with minimum knowledge of analytics is able to grasp the insight.\n",
    "\n",
    "Austo Motor Company is a leading car manufacturer specializing in SUV, Sedan, and Hatchback models. In its recent board meeting, concerns were raised by the members on the efficiency of the marketing campaign currently being used. The board decides to rope in an analytics professional to improve the existing campaign."
   ]
  },
  {
   "cell_type": "markdown",
   "id": "c1f48027",
   "metadata": {},
   "source": [
    "Initalially we need to import necessery libraries to do analysis."
   ]
  },
  {
   "cell_type": "code",
   "execution_count": 1,
   "id": "2f4f86e0",
   "metadata": {},
   "outputs": [],
   "source": [
    "import numpy as np\n",
    "import pandas as pd\n",
    "import seaborn as sns\n",
    "import matplotlib.pyplot as plt"
   ]
  },
  {
   "cell_type": "markdown",
   "id": "e26b88f4",
   "metadata": {},
   "source": [
    "Reading dataset using pandas library and assigning dataset to the variable name data."
   ]
  },
  {
   "cell_type": "code",
   "execution_count": 2,
   "id": "2ecafe2a",
   "metadata": {},
   "outputs": [],
   "source": [
    "data = pd.read_csv('austo_automobile.csv')"
   ]
  },
  {
   "cell_type": "markdown",
   "id": "431c3bc8",
   "metadata": {},
   "source": [
    "Reading top 5 rows to know about the data column names present inside the dataframe."
   ]
  },
  {
   "cell_type": "code",
   "execution_count": 3,
   "id": "85df3a49",
   "metadata": {
    "scrolled": true
   },
   "outputs": [
    {
     "data": {
      "text/html": [
       "<div>\n",
       "<style scoped>\n",
       "    .dataframe tbody tr th:only-of-type {\n",
       "        vertical-align: middle;\n",
       "    }\n",
       "\n",
       "    .dataframe tbody tr th {\n",
       "        vertical-align: top;\n",
       "    }\n",
       "\n",
       "    .dataframe thead th {\n",
       "        text-align: right;\n",
       "    }\n",
       "</style>\n",
       "<table border=\"1\" class=\"dataframe\">\n",
       "  <thead>\n",
       "    <tr style=\"text-align: right;\">\n",
       "      <th></th>\n",
       "      <th>Age</th>\n",
       "      <th>Gender</th>\n",
       "      <th>Profession</th>\n",
       "      <th>Marital_status</th>\n",
       "      <th>Education</th>\n",
       "      <th>No_of_Dependents</th>\n",
       "      <th>Personal_loan</th>\n",
       "      <th>House_loan</th>\n",
       "      <th>Partner_working</th>\n",
       "      <th>Salary</th>\n",
       "      <th>Partner_salary</th>\n",
       "      <th>Total_salary</th>\n",
       "      <th>Price</th>\n",
       "      <th>Make</th>\n",
       "    </tr>\n",
       "  </thead>\n",
       "  <tbody>\n",
       "    <tr>\n",
       "      <th>0</th>\n",
       "      <td>53</td>\n",
       "      <td>Male</td>\n",
       "      <td>Business</td>\n",
       "      <td>Married</td>\n",
       "      <td>Post Graduate</td>\n",
       "      <td>4</td>\n",
       "      <td>No</td>\n",
       "      <td>No</td>\n",
       "      <td>Yes</td>\n",
       "      <td>99300</td>\n",
       "      <td>70700.0</td>\n",
       "      <td>170000</td>\n",
       "      <td>61000</td>\n",
       "      <td>SUV</td>\n",
       "    </tr>\n",
       "    <tr>\n",
       "      <th>1</th>\n",
       "      <td>53</td>\n",
       "      <td>Femal</td>\n",
       "      <td>Salaried</td>\n",
       "      <td>Married</td>\n",
       "      <td>Post Graduate</td>\n",
       "      <td>4</td>\n",
       "      <td>Yes</td>\n",
       "      <td>No</td>\n",
       "      <td>Yes</td>\n",
       "      <td>95500</td>\n",
       "      <td>70300.0</td>\n",
       "      <td>165800</td>\n",
       "      <td>61000</td>\n",
       "      <td>SUV</td>\n",
       "    </tr>\n",
       "    <tr>\n",
       "      <th>2</th>\n",
       "      <td>53</td>\n",
       "      <td>Female</td>\n",
       "      <td>Salaried</td>\n",
       "      <td>Married</td>\n",
       "      <td>Post Graduate</td>\n",
       "      <td>3</td>\n",
       "      <td>No</td>\n",
       "      <td>No</td>\n",
       "      <td>Yes</td>\n",
       "      <td>97300</td>\n",
       "      <td>60700.0</td>\n",
       "      <td>158000</td>\n",
       "      <td>57000</td>\n",
       "      <td>SUV</td>\n",
       "    </tr>\n",
       "    <tr>\n",
       "      <th>3</th>\n",
       "      <td>53</td>\n",
       "      <td>Female</td>\n",
       "      <td>Salaried</td>\n",
       "      <td>Married</td>\n",
       "      <td>Graduate</td>\n",
       "      <td>2</td>\n",
       "      <td>Yes</td>\n",
       "      <td>No</td>\n",
       "      <td>Yes</td>\n",
       "      <td>72500</td>\n",
       "      <td>70300.0</td>\n",
       "      <td>142800</td>\n",
       "      <td>61000</td>\n",
       "      <td>SUV</td>\n",
       "    </tr>\n",
       "    <tr>\n",
       "      <th>4</th>\n",
       "      <td>53</td>\n",
       "      <td>Male</td>\n",
       "      <td>Salaried</td>\n",
       "      <td>Married</td>\n",
       "      <td>Post Graduate</td>\n",
       "      <td>3</td>\n",
       "      <td>No</td>\n",
       "      <td>No</td>\n",
       "      <td>Yes</td>\n",
       "      <td>79700</td>\n",
       "      <td>60200.0</td>\n",
       "      <td>139900</td>\n",
       "      <td>57000</td>\n",
       "      <td>SUV</td>\n",
       "    </tr>\n",
       "  </tbody>\n",
       "</table>\n",
       "</div>"
      ],
      "text/plain": [
       "   Age  Gender Profession Marital_status      Education  No_of_Dependents  \\\n",
       "0   53    Male   Business        Married  Post Graduate                 4   \n",
       "1   53   Femal   Salaried        Married  Post Graduate                 4   \n",
       "2   53  Female   Salaried        Married  Post Graduate                 3   \n",
       "3   53  Female   Salaried        Married       Graduate                 2   \n",
       "4   53    Male   Salaried        Married  Post Graduate                 3   \n",
       "\n",
       "  Personal_loan House_loan Partner_working  Salary  Partner_salary  \\\n",
       "0            No         No             Yes   99300         70700.0   \n",
       "1           Yes         No             Yes   95500         70300.0   \n",
       "2            No         No             Yes   97300         60700.0   \n",
       "3           Yes         No             Yes   72500         70300.0   \n",
       "4            No         No             Yes   79700         60200.0   \n",
       "\n",
       "   Total_salary  Price Make  \n",
       "0        170000  61000  SUV  \n",
       "1        165800  61000  SUV  \n",
       "2        158000  57000  SUV  \n",
       "3        142800  61000  SUV  \n",
       "4        139900  57000  SUV  "
      ]
     },
     "execution_count": 3,
     "metadata": {},
     "output_type": "execute_result"
    }
   ],
   "source": [
    "data.head()"
   ]
  },
  {
   "cell_type": "markdown",
   "id": "26071b6b",
   "metadata": {},
   "source": [
    "1.\tWhat is the important technical information about the dataset that a database administrator would be interested in? (Hint: Information about the size of the dataset and the nature of the variables).\n",
    "\n",
    "Dataset is having 1581 rows(records) with 14 columns (features/variables).\n",
    "\n",
    "The dataset conatins name of the column followed by datatypes along with the count of not null values/fields.\n",
    "    The following are the datatypes present in the datsset: float64(1), int64(5), object(8)."
   ]
  },
  {
   "cell_type": "code",
   "execution_count": 4,
   "id": "a3091da1",
   "metadata": {},
   "outputs": [
    {
     "name": "stdout",
     "output_type": "stream",
     "text": [
      "There are 14 columns and 1581 rows present in the dataset\n"
     ]
    }
   ],
   "source": [
    "data.shape\n",
    "\n",
    "print(\"There are\" ,data.shape[1],'columns and' ,data.shape[0], 'rows present in the dataset')"
   ]
  },
  {
   "cell_type": "code",
   "execution_count": 5,
   "id": "40f02657",
   "metadata": {},
   "outputs": [
    {
     "name": "stdout",
     "output_type": "stream",
     "text": [
      "<class 'pandas.core.frame.DataFrame'>\n",
      "RangeIndex: 1581 entries, 0 to 1580\n",
      "Data columns (total 14 columns):\n",
      " #   Column            Non-Null Count  Dtype  \n",
      "---  ------            --------------  -----  \n",
      " 0   Age               1581 non-null   int64  \n",
      " 1   Gender            1528 non-null   object \n",
      " 2   Profession        1581 non-null   object \n",
      " 3   Marital_status    1581 non-null   object \n",
      " 4   Education         1581 non-null   object \n",
      " 5   No_of_Dependents  1581 non-null   int64  \n",
      " 6   Personal_loan     1581 non-null   object \n",
      " 7   House_loan        1581 non-null   object \n",
      " 8   Partner_working   1581 non-null   object \n",
      " 9   Salary            1581 non-null   int64  \n",
      " 10  Partner_salary    1475 non-null   float64\n",
      " 11  Total_salary      1581 non-null   int64  \n",
      " 12  Price             1581 non-null   int64  \n",
      " 13  Make              1581 non-null   object \n",
      "dtypes: float64(1), int64(5), object(8)\n",
      "memory usage: 173.0+ KB\n"
     ]
    }
   ],
   "source": [
    "data.info()"
   ]
  },
  {
   "cell_type": "markdown",
   "id": "afed5f69",
   "metadata": {},
   "source": [
    "2. Take a critical look at the data and do a preliminary analysis of the variables. Do a quality check of the data so that the variables are consistent. Are there any discrepancies present in the data?\n",
    "\n",
    "As we can the number of rows are 1581 but in gender and partner_salary column we can see the differnce in total number of not null values. \n",
    "\n",
    "Here we are extracting columns with null counts greater than 0. After extracting we get 2 columns with null counts greater than 0.\n",
    "\n",
    "These type of columns can be handled either by imputing appropriate values or dropping fields when there is no clear values. "
   ]
  },
  {
   "cell_type": "code",
   "execution_count": 6,
   "id": "56345188",
   "metadata": {},
   "outputs": [
    {
     "data": {
      "text/html": [
       "<div>\n",
       "<style scoped>\n",
       "    .dataframe tbody tr th:only-of-type {\n",
       "        vertical-align: middle;\n",
       "    }\n",
       "\n",
       "    .dataframe tbody tr th {\n",
       "        vertical-align: top;\n",
       "    }\n",
       "\n",
       "    .dataframe thead th {\n",
       "        text-align: right;\n",
       "    }\n",
       "</style>\n",
       "<table border=\"1\" class=\"dataframe\">\n",
       "  <thead>\n",
       "    <tr style=\"text-align: right;\">\n",
       "      <th></th>\n",
       "      <th>count</th>\n",
       "      <th>unique</th>\n",
       "      <th>top</th>\n",
       "      <th>freq</th>\n",
       "      <th>mean</th>\n",
       "      <th>std</th>\n",
       "      <th>min</th>\n",
       "      <th>25%</th>\n",
       "      <th>50%</th>\n",
       "      <th>75%</th>\n",
       "      <th>max</th>\n",
       "    </tr>\n",
       "  </thead>\n",
       "  <tbody>\n",
       "    <tr>\n",
       "      <th>Age</th>\n",
       "      <td>1581.0</td>\n",
       "      <td>NaN</td>\n",
       "      <td>NaN</td>\n",
       "      <td>NaN</td>\n",
       "      <td>31.922201</td>\n",
       "      <td>8.425978</td>\n",
       "      <td>22.0</td>\n",
       "      <td>25.0</td>\n",
       "      <td>29.0</td>\n",
       "      <td>38.0</td>\n",
       "      <td>54.0</td>\n",
       "    </tr>\n",
       "    <tr>\n",
       "      <th>Gender</th>\n",
       "      <td>1528</td>\n",
       "      <td>4</td>\n",
       "      <td>Male</td>\n",
       "      <td>1199</td>\n",
       "      <td>NaN</td>\n",
       "      <td>NaN</td>\n",
       "      <td>NaN</td>\n",
       "      <td>NaN</td>\n",
       "      <td>NaN</td>\n",
       "      <td>NaN</td>\n",
       "      <td>NaN</td>\n",
       "    </tr>\n",
       "    <tr>\n",
       "      <th>Profession</th>\n",
       "      <td>1581</td>\n",
       "      <td>2</td>\n",
       "      <td>Salaried</td>\n",
       "      <td>896</td>\n",
       "      <td>NaN</td>\n",
       "      <td>NaN</td>\n",
       "      <td>NaN</td>\n",
       "      <td>NaN</td>\n",
       "      <td>NaN</td>\n",
       "      <td>NaN</td>\n",
       "      <td>NaN</td>\n",
       "    </tr>\n",
       "    <tr>\n",
       "      <th>Marital_status</th>\n",
       "      <td>1581</td>\n",
       "      <td>2</td>\n",
       "      <td>Married</td>\n",
       "      <td>1443</td>\n",
       "      <td>NaN</td>\n",
       "      <td>NaN</td>\n",
       "      <td>NaN</td>\n",
       "      <td>NaN</td>\n",
       "      <td>NaN</td>\n",
       "      <td>NaN</td>\n",
       "      <td>NaN</td>\n",
       "    </tr>\n",
       "    <tr>\n",
       "      <th>Education</th>\n",
       "      <td>1581</td>\n",
       "      <td>2</td>\n",
       "      <td>Post Graduate</td>\n",
       "      <td>985</td>\n",
       "      <td>NaN</td>\n",
       "      <td>NaN</td>\n",
       "      <td>NaN</td>\n",
       "      <td>NaN</td>\n",
       "      <td>NaN</td>\n",
       "      <td>NaN</td>\n",
       "      <td>NaN</td>\n",
       "    </tr>\n",
       "    <tr>\n",
       "      <th>No_of_Dependents</th>\n",
       "      <td>1581.0</td>\n",
       "      <td>NaN</td>\n",
       "      <td>NaN</td>\n",
       "      <td>NaN</td>\n",
       "      <td>2.457938</td>\n",
       "      <td>0.943483</td>\n",
       "      <td>0.0</td>\n",
       "      <td>2.0</td>\n",
       "      <td>2.0</td>\n",
       "      <td>3.0</td>\n",
       "      <td>4.0</td>\n",
       "    </tr>\n",
       "    <tr>\n",
       "      <th>Personal_loan</th>\n",
       "      <td>1581</td>\n",
       "      <td>2</td>\n",
       "      <td>Yes</td>\n",
       "      <td>792</td>\n",
       "      <td>NaN</td>\n",
       "      <td>NaN</td>\n",
       "      <td>NaN</td>\n",
       "      <td>NaN</td>\n",
       "      <td>NaN</td>\n",
       "      <td>NaN</td>\n",
       "      <td>NaN</td>\n",
       "    </tr>\n",
       "    <tr>\n",
       "      <th>House_loan</th>\n",
       "      <td>1581</td>\n",
       "      <td>2</td>\n",
       "      <td>No</td>\n",
       "      <td>1054</td>\n",
       "      <td>NaN</td>\n",
       "      <td>NaN</td>\n",
       "      <td>NaN</td>\n",
       "      <td>NaN</td>\n",
       "      <td>NaN</td>\n",
       "      <td>NaN</td>\n",
       "      <td>NaN</td>\n",
       "    </tr>\n",
       "    <tr>\n",
       "      <th>Partner_working</th>\n",
       "      <td>1581</td>\n",
       "      <td>2</td>\n",
       "      <td>Yes</td>\n",
       "      <td>868</td>\n",
       "      <td>NaN</td>\n",
       "      <td>NaN</td>\n",
       "      <td>NaN</td>\n",
       "      <td>NaN</td>\n",
       "      <td>NaN</td>\n",
       "      <td>NaN</td>\n",
       "      <td>NaN</td>\n",
       "    </tr>\n",
       "    <tr>\n",
       "      <th>Salary</th>\n",
       "      <td>1581.0</td>\n",
       "      <td>NaN</td>\n",
       "      <td>NaN</td>\n",
       "      <td>NaN</td>\n",
       "      <td>60392.220114</td>\n",
       "      <td>14674.825044</td>\n",
       "      <td>30000.0</td>\n",
       "      <td>51900.0</td>\n",
       "      <td>59500.0</td>\n",
       "      <td>71800.0</td>\n",
       "      <td>99300.0</td>\n",
       "    </tr>\n",
       "    <tr>\n",
       "      <th>Partner_salary</th>\n",
       "      <td>1475.0</td>\n",
       "      <td>NaN</td>\n",
       "      <td>NaN</td>\n",
       "      <td>NaN</td>\n",
       "      <td>20225.559322</td>\n",
       "      <td>19573.149277</td>\n",
       "      <td>0.0</td>\n",
       "      <td>0.0</td>\n",
       "      <td>25600.0</td>\n",
       "      <td>38300.0</td>\n",
       "      <td>80500.0</td>\n",
       "    </tr>\n",
       "    <tr>\n",
       "      <th>Total_salary</th>\n",
       "      <td>1581.0</td>\n",
       "      <td>NaN</td>\n",
       "      <td>NaN</td>\n",
       "      <td>NaN</td>\n",
       "      <td>79625.996205</td>\n",
       "      <td>25545.857768</td>\n",
       "      <td>30000.0</td>\n",
       "      <td>60500.0</td>\n",
       "      <td>78000.0</td>\n",
       "      <td>95900.0</td>\n",
       "      <td>171000.0</td>\n",
       "    </tr>\n",
       "    <tr>\n",
       "      <th>Price</th>\n",
       "      <td>1581.0</td>\n",
       "      <td>NaN</td>\n",
       "      <td>NaN</td>\n",
       "      <td>NaN</td>\n",
       "      <td>35597.72296</td>\n",
       "      <td>13633.636545</td>\n",
       "      <td>18000.0</td>\n",
       "      <td>25000.0</td>\n",
       "      <td>31000.0</td>\n",
       "      <td>47000.0</td>\n",
       "      <td>70000.0</td>\n",
       "    </tr>\n",
       "    <tr>\n",
       "      <th>Make</th>\n",
       "      <td>1581</td>\n",
       "      <td>3</td>\n",
       "      <td>Sedan</td>\n",
       "      <td>702</td>\n",
       "      <td>NaN</td>\n",
       "      <td>NaN</td>\n",
       "      <td>NaN</td>\n",
       "      <td>NaN</td>\n",
       "      <td>NaN</td>\n",
       "      <td>NaN</td>\n",
       "      <td>NaN</td>\n",
       "    </tr>\n",
       "  </tbody>\n",
       "</table>\n",
       "</div>"
      ],
      "text/plain": [
       "                   count unique            top  freq          mean  \\\n",
       "Age               1581.0    NaN            NaN   NaN     31.922201   \n",
       "Gender              1528      4           Male  1199           NaN   \n",
       "Profession          1581      2       Salaried   896           NaN   \n",
       "Marital_status      1581      2        Married  1443           NaN   \n",
       "Education           1581      2  Post Graduate   985           NaN   \n",
       "No_of_Dependents  1581.0    NaN            NaN   NaN      2.457938   \n",
       "Personal_loan       1581      2            Yes   792           NaN   \n",
       "House_loan          1581      2             No  1054           NaN   \n",
       "Partner_working     1581      2            Yes   868           NaN   \n",
       "Salary            1581.0    NaN            NaN   NaN  60392.220114   \n",
       "Partner_salary    1475.0    NaN            NaN   NaN  20225.559322   \n",
       "Total_salary      1581.0    NaN            NaN   NaN  79625.996205   \n",
       "Price             1581.0    NaN            NaN   NaN   35597.72296   \n",
       "Make                1581      3          Sedan   702           NaN   \n",
       "\n",
       "                           std      min      25%      50%      75%       max  \n",
       "Age                   8.425978     22.0     25.0     29.0     38.0      54.0  \n",
       "Gender                     NaN      NaN      NaN      NaN      NaN       NaN  \n",
       "Profession                 NaN      NaN      NaN      NaN      NaN       NaN  \n",
       "Marital_status             NaN      NaN      NaN      NaN      NaN       NaN  \n",
       "Education                  NaN      NaN      NaN      NaN      NaN       NaN  \n",
       "No_of_Dependents      0.943483      0.0      2.0      2.0      3.0       4.0  \n",
       "Personal_loan              NaN      NaN      NaN      NaN      NaN       NaN  \n",
       "House_loan                 NaN      NaN      NaN      NaN      NaN       NaN  \n",
       "Partner_working            NaN      NaN      NaN      NaN      NaN       NaN  \n",
       "Salary            14674.825044  30000.0  51900.0  59500.0  71800.0   99300.0  \n",
       "Partner_salary    19573.149277      0.0      0.0  25600.0  38300.0   80500.0  \n",
       "Total_salary      25545.857768  30000.0  60500.0  78000.0  95900.0  171000.0  \n",
       "Price             13633.636545  18000.0  25000.0  31000.0  47000.0   70000.0  \n",
       "Make                       NaN      NaN      NaN      NaN      NaN       NaN  "
      ]
     },
     "execution_count": 6,
     "metadata": {},
     "output_type": "execute_result"
    }
   ],
   "source": [
    "data.describe(include='all').T"
   ]
  },
  {
   "cell_type": "code",
   "execution_count": 7,
   "id": "1dc7bba0",
   "metadata": {
    "scrolled": true
   },
   "outputs": [
    {
     "data": {
      "text/plain": [
       "Gender             53\n",
       "Partner_salary    106\n",
       "dtype: int64"
      ]
     },
     "execution_count": 7,
     "metadata": {},
     "output_type": "execute_result"
    }
   ],
   "source": [
    "data.isna().sum()[data.isnull().sum() > 0]"
   ]
  },
  {
   "cell_type": "markdown",
   "id": "06236992",
   "metadata": {},
   "source": [
    "Here we are checking for the conditon where status of Partner_working is 'NO', through this we can conclude they are not working and their salary will be 0, with the help of this we can impute 0 in partner_salary wherever partner_working status is no"
   ]
  },
  {
   "cell_type": "code",
   "execution_count": 8,
   "id": "281209c3",
   "metadata": {},
   "outputs": [],
   "source": [
    "data['Partner_salary'] = data.groupby(data['Partner_working'] == 'No')['Partner_salary'].fillna(0)"
   ]
  },
  {
   "cell_type": "markdown",
   "id": "e74efec7",
   "metadata": {},
   "source": [
    "For Gender, we can find 4 unique categories instead of 2 unique categories. These is due to typos while filling the field. It can be imputed by replacing with correct spelling. "
   ]
  },
  {
   "cell_type": "code",
   "execution_count": 9,
   "id": "8c27ff74",
   "metadata": {},
   "outputs": [
    {
     "data": {
      "text/plain": [
       "Male      1199\n",
       "Female     327\n",
       "Femal        1\n",
       "Femle        1\n",
       "Name: Gender, dtype: int64"
      ]
     },
     "execution_count": 9,
     "metadata": {},
     "output_type": "execute_result"
    }
   ],
   "source": [
    "data['Gender'].value_counts()"
   ]
  },
  {
   "cell_type": "code",
   "execution_count": 10,
   "id": "48ee65dc",
   "metadata": {},
   "outputs": [
    {
     "data": {
      "text/plain": [
       "Male      1199\n",
       "Female     329\n",
       "Name: Gender, dtype: int64"
      ]
     },
     "execution_count": 10,
     "metadata": {},
     "output_type": "execute_result"
    }
   ],
   "source": [
    "data['Gender'].replace(['Femal','Femle'],'Female', inplace=True)\n",
    "data['Gender'].value_counts()"
   ]
  },
  {
   "cell_type": "markdown",
   "id": "936d5223",
   "metadata": {},
   "source": [
    "Still we can notice 53 missing fields in the gender column. Those rows can be dropped as there no way to impute and also the missing values are less than 5% of the total records we can drop them."
   ]
  },
  {
   "cell_type": "code",
   "execution_count": 11,
   "id": "0c3c4e8a",
   "metadata": {},
   "outputs": [
    {
     "data": {
      "text/plain": [
       "Gender    53\n",
       "dtype: int64"
      ]
     },
     "execution_count": 11,
     "metadata": {},
     "output_type": "execute_result"
    }
   ],
   "source": [
    "data.isna().sum()[data.isnull().sum() > 0]"
   ]
  },
  {
   "cell_type": "code",
   "execution_count": 12,
   "id": "5172db2b",
   "metadata": {},
   "outputs": [],
   "source": [
    "data.dropna(subset=['Gender'], axis=0, inplace=True)"
   ]
  },
  {
   "cell_type": "markdown",
   "id": "77c4716c",
   "metadata": {},
   "source": [
    "Now in the below line of code we can see there is no null values and number of records are 1528."
   ]
  },
  {
   "cell_type": "code",
   "execution_count": 13,
   "id": "e468d105",
   "metadata": {},
   "outputs": [
    {
     "name": "stdout",
     "output_type": "stream",
     "text": [
      "<class 'pandas.core.frame.DataFrame'>\n",
      "Int64Index: 1528 entries, 0 to 1580\n",
      "Data columns (total 14 columns):\n",
      " #   Column            Non-Null Count  Dtype  \n",
      "---  ------            --------------  -----  \n",
      " 0   Age               1528 non-null   int64  \n",
      " 1   Gender            1528 non-null   object \n",
      " 2   Profession        1528 non-null   object \n",
      " 3   Marital_status    1528 non-null   object \n",
      " 4   Education         1528 non-null   object \n",
      " 5   No_of_Dependents  1528 non-null   int64  \n",
      " 6   Personal_loan     1528 non-null   object \n",
      " 7   House_loan        1528 non-null   object \n",
      " 8   Partner_working   1528 non-null   object \n",
      " 9   Salary            1528 non-null   int64  \n",
      " 10  Partner_salary    1528 non-null   float64\n",
      " 11  Total_salary      1528 non-null   int64  \n",
      " 12  Price             1528 non-null   int64  \n",
      " 13  Make              1528 non-null   object \n",
      "dtypes: float64(1), int64(5), object(8)\n",
      "memory usage: 179.1+ KB\n"
     ]
    }
   ],
   "source": [
    "data.info()"
   ]
  },
  {
   "cell_type": "markdown",
   "id": "fd7d61dd",
   "metadata": {},
   "source": [
    "3. Explore all the features of the data separately by using appropriate visualizations and draw insights that can be utilized by the business.\n",
    "\n",
    "Sol: Visualizing features of the data using appropriate plots/graphs."
   ]
  },
  {
   "cell_type": "markdown",
   "id": "5c0e60c5",
   "metadata": {},
   "source": [
    "a. Make(count)\n",
    "\n",
    "•\tFrom the below chart we can conclude that highest selling make/model in number is “Sedan”\n",
    "\n",
    "•\tAlso HATCHBACK make counts is almost close to the “SEDAN”\n",
    "\n",
    "•\t“SUV” make is the least number of cars sold."
   ]
  },
  {
   "cell_type": "code",
   "execution_count": 14,
   "id": "0dc86a39",
   "metadata": {
    "scrolled": false
   },
   "outputs": [
    {
     "data": {
      "text/plain": [
       "<AxesSubplot:xlabel='Make', ylabel='count'>"
      ]
     },
     "execution_count": 14,
     "metadata": {},
     "output_type": "execute_result"
    },
    {
     "data": {
      "image/png": "[encoded data removed]",
      "text/plain": [
       "<Figure size 432x288 with 1 Axes>"
      ]
     },
     "metadata": {
      "needs_background": "light"
     },
     "output_type": "display_data"
    }
   ],
   "source": [
    "sns.countplot(data = data, x = 'Make', order = data['Make'].value_counts().index)"
   ]
  },
  {
   "cell_type": "markdown",
   "id": "eb57e014",
   "metadata": {},
   "source": [
    "b. Make vs Price(Price Range)\n",
    "\n",
    "From the above graph we can say 'SUV' make price is higher followed by 'SEDAN' and lowest price make is 'Hatchback' from the daatset"
   ]
  },
  {
   "cell_type": "code",
   "execution_count": 15,
   "id": "04b7a26c",
   "metadata": {
    "scrolled": false
   },
   "outputs": [
    {
     "data": {
      "text/plain": [
       "<AxesSubplot:xlabel='Make', ylabel='Price'>"
      ]
     },
     "execution_count": 15,
     "metadata": {},
     "output_type": "execute_result"
    },
    {
     "data": {
      "image/png": "[encoded data removed]",
      "text/plain": [
       "<Figure size 432x288 with 1 Axes>"
      ]
     },
     "metadata": {
      "needs_background": "light"
     },
     "output_type": "display_data"
    }
   ],
   "source": [
    "sns.barplot(x = 'Make', y = 'Price', data=data)"
   ]
  },
  {
   "cell_type": "markdown",
   "id": "dcfbb78a",
   "metadata": {},
   "source": [
    "c. Make vs price\n",
    "\n",
    "Revenue generated by each make\n",
    "\n",
    "Here can find that 'SEDAN' as the highest Revenue made per make."
   ]
  },
  {
   "cell_type": "code",
   "execution_count": 16,
   "id": "dd7c6704",
   "metadata": {},
   "outputs": [
    {
     "data": {
      "text/plain": [
       "<AxesSubplot:ylabel='Make'>"
      ]
     },
     "execution_count": 16,
     "metadata": {},
     "output_type": "execute_result"
    },
    {
     "data": {
      "image/png": "[encoded data removed]",
      "text/plain": [
       "<Figure size 432x288 with 1 Axes>"
      ]
     },
     "metadata": {
      "needs_background": "light"
     },
     "output_type": "display_data"
    }
   ],
   "source": [
    "data.groupby('Make')['Price'].sum().plot(kind = 'barh')"
   ]
  },
  {
   "cell_type": "markdown",
   "id": "e6a2962c",
   "metadata": {},
   "source": [
    "d. Count of Make vs MArital Status\n",
    "\n",
    "Here we can conclude that married customers are more likely to buy when compared to singles."
   ]
  },
  {
   "cell_type": "code",
   "execution_count": 17,
   "id": "3ccc6952",
   "metadata": {
    "scrolled": true
   },
   "outputs": [
    {
     "data": {
      "text/plain": [
       "<AxesSubplot:xlabel='Make', ylabel='count'>"
      ]
     },
     "execution_count": 17,
     "metadata": {},
     "output_type": "execute_result"
    },
    {
     "data": {
      "image/png": "[encoded data removed]",
      "text/plain": [
       "<Figure size 432x288 with 1 Axes>"
      ]
     },
     "metadata": {
      "needs_background": "light"
     },
     "output_type": "display_data"
    }
   ],
   "source": [
    "sns.countplot(data = data, x = 'Make', order = data['Make'].value_counts().index, hue = 'Marital_status')"
   ]
  },
  {
   "cell_type": "markdown",
   "id": "58314ba4",
   "metadata": {},
   "source": [
    "e. Make vs Total Salary\n",
    "\n",
    "Here higher the total salary they are likely to buy higher priced make i,e 'SUV'."
   ]
  },
  {
   "cell_type": "code",
   "execution_count": 18,
   "id": "eba0807c",
   "metadata": {
    "scrolled": true
   },
   "outputs": [
    {
     "data": {
      "text/plain": [
       "<AxesSubplot:xlabel='Make', ylabel='Total_salary'>"
      ]
     },
     "execution_count": 18,
     "metadata": {},
     "output_type": "execute_result"
    },
    {
     "data": {
      "image/png": "[encoded data removed]",
      "text/plain": [
       "<Figure size 432x288 with 1 Axes>"
      ]
     },
     "metadata": {
      "needs_background": "light"
     },
     "output_type": "display_data"
    }
   ],
   "source": [
    "sns.barplot(data = data, x = 'Make', y = 'Total_salary')"
   ]
  },
  {
   "cell_type": "markdown",
   "id": "6d272dec",
   "metadata": {},
   "source": [
    "f. Count of Make vs Gender\n",
    "\n",
    "Here we can clearly see Males prefer to buy either 'SEDAN' or 'HATCHBACK' and Female are preferred to buy 'SUV'."
   ]
  },
  {
   "cell_type": "code",
   "execution_count": 19,
   "id": "c93ea87b",
   "metadata": {},
   "outputs": [
    {
     "data": {
      "text/plain": [
       "<AxesSubplot:xlabel='Make', ylabel='count'>"
      ]
     },
     "execution_count": 19,
     "metadata": {},
     "output_type": "execute_result"
    },
    {
     "data": {
      "image/png": "[encoded data removed]",
      "text/plain": [
       "<Figure size 432x288 with 1 Axes>"
      ]
     },
     "metadata": {
      "needs_background": "light"
     },
     "output_type": "display_data"
    }
   ],
   "source": [
    "sns.countplot(data = data, x = 'Make', order = data['Make'].value_counts().index, hue = 'Gender')"
   ]
  },
  {
   "cell_type": "markdown",
   "id": "6b7aa36f",
   "metadata": {},
   "source": [
    "4. Understanding the relationships among the variables in the dataset is crucial for every analytical project. Perform analysis on the data fields to gain deeper insights. Comment on your understanding of the data. "
   ]
  },
  {
   "cell_type": "markdown",
   "id": "a02265a7",
   "metadata": {},
   "source": [
    "From the below table we can find all the features are positively co-related with each other as there is no negative numbers in the table to show negative relationship."
   ]
  },
  {
   "cell_type": "code",
   "execution_count": 20,
   "id": "62d0c90d",
   "metadata": {},
   "outputs": [
    {
     "data": {
      "text/html": [
       "<div>\n",
       "<style scoped>\n",
       "    .dataframe tbody tr th:only-of-type {\n",
       "        vertical-align: middle;\n",
       "    }\n",
       "\n",
       "    .dataframe tbody tr th {\n",
       "        vertical-align: top;\n",
       "    }\n",
       "\n",
       "    .dataframe thead th {\n",
       "        text-align: right;\n",
       "    }\n",
       "</style>\n",
       "<table border=\"1\" class=\"dataframe\">\n",
       "  <thead>\n",
       "    <tr style=\"text-align: right;\">\n",
       "      <th></th>\n",
       "      <th>Age</th>\n",
       "      <th>No_of_Dependents</th>\n",
       "      <th>Salary</th>\n",
       "      <th>Partner_salary</th>\n",
       "      <th>Total_salary</th>\n",
       "      <th>Price</th>\n",
       "    </tr>\n",
       "  </thead>\n",
       "  <tbody>\n",
       "    <tr>\n",
       "      <th>Age</th>\n",
       "      <td>1.000000</td>\n",
       "      <td>-0.185344</td>\n",
       "      <td>0.619373</td>\n",
       "      <td>0.121966</td>\n",
       "      <td>0.460623</td>\n",
       "      <td>0.798491</td>\n",
       "    </tr>\n",
       "    <tr>\n",
       "      <th>No_of_Dependents</th>\n",
       "      <td>-0.185344</td>\n",
       "      <td>1.000000</td>\n",
       "      <td>-0.039077</td>\n",
       "      <td>0.140078</td>\n",
       "      <td>0.092675</td>\n",
       "      <td>-0.124733</td>\n",
       "    </tr>\n",
       "    <tr>\n",
       "      <th>Salary</th>\n",
       "      <td>0.619373</td>\n",
       "      <td>-0.039077</td>\n",
       "      <td>1.000000</td>\n",
       "      <td>0.077454</td>\n",
       "      <td>0.639292</td>\n",
       "      <td>0.411713</td>\n",
       "    </tr>\n",
       "    <tr>\n",
       "      <th>Partner_salary</th>\n",
       "      <td>0.121966</td>\n",
       "      <td>0.140078</td>\n",
       "      <td>0.077454</td>\n",
       "      <td>1.000000</td>\n",
       "      <td>0.798058</td>\n",
       "      <td>0.151455</td>\n",
       "    </tr>\n",
       "    <tr>\n",
       "      <th>Total_salary</th>\n",
       "      <td>0.460623</td>\n",
       "      <td>0.092675</td>\n",
       "      <td>0.639292</td>\n",
       "      <td>0.798058</td>\n",
       "      <td>1.000000</td>\n",
       "      <td>0.365283</td>\n",
       "    </tr>\n",
       "    <tr>\n",
       "      <th>Price</th>\n",
       "      <td>0.798491</td>\n",
       "      <td>-0.124733</td>\n",
       "      <td>0.411713</td>\n",
       "      <td>0.151455</td>\n",
       "      <td>0.365283</td>\n",
       "      <td>1.000000</td>\n",
       "    </tr>\n",
       "  </tbody>\n",
       "</table>\n",
       "</div>"
      ],
      "text/plain": [
       "                       Age  No_of_Dependents    Salary  Partner_salary  \\\n",
       "Age               1.000000         -0.185344  0.619373        0.121966   \n",
       "No_of_Dependents -0.185344          1.000000 -0.039077        0.140078   \n",
       "Salary            0.619373         -0.039077  1.000000        0.077454   \n",
       "Partner_salary    0.121966          0.140078  0.077454        1.000000   \n",
       "Total_salary      0.460623          0.092675  0.639292        0.798058   \n",
       "Price             0.798491         -0.124733  0.411713        0.151455   \n",
       "\n",
       "                  Total_salary     Price  \n",
       "Age                   0.460623  0.798491  \n",
       "No_of_Dependents      0.092675 -0.124733  \n",
       "Salary                0.639292  0.411713  \n",
       "Partner_salary        0.798058  0.151455  \n",
       "Total_salary          1.000000  0.365283  \n",
       "Price                 0.365283  1.000000  "
      ]
     },
     "execution_count": 20,
     "metadata": {},
     "output_type": "execute_result"
    }
   ],
   "source": [
    "cor = data.corr()\n",
    "cor"
   ]
  },
  {
   "cell_type": "markdown",
   "id": "f1b275ea",
   "metadata": {},
   "source": [
    "From the below graph we can see all the diagonal elements are 1, beacause they are representing to same column.\n",
    "\n",
    "Here we can see "
   ]
  },
  {
   "cell_type": "code",
   "execution_count": 21,
   "id": "329238ed",
   "metadata": {
    "scrolled": true
   },
   "outputs": [
    {
     "data": {
      "text/plain": [
       "<AxesSubplot:>"
      ]
     },
     "execution_count": 21,
     "metadata": {},
     "output_type": "execute_result"
    },
    {
     "data": {
      "image/png": "[encoded data removed]",
      "text/plain": [
       "<Figure size 432x288 with 2 Axes>"
      ]
     },
     "metadata": {
      "needs_background": "light"
     },
     "output_type": "display_data"
    }
   ],
   "source": [
    "sns.heatmap(cor,annot=True,cmap='Spectral',)"
   ]
  },
  {
   "cell_type": "markdown",
   "id": "211ba3ab",
   "metadata": {},
   "source": [
    "The relationship between Salary and Partner_salary is 0.077 which is almost close to 0. Becuase each individual has salary field but only few has partner_salary field."
   ]
  },
  {
   "cell_type": "markdown",
   "id": "e433f1b6",
   "metadata": {},
   "source": [
    "Age and Price is highly positive relationship as the age increases their salary will also increase and they can prefer cars based on price."
   ]
  },
  {
   "cell_type": "code",
   "execution_count": 22,
   "id": "f0b13c05",
   "metadata": {},
   "outputs": [
    {
     "data": {
      "text/plain": [
       "Salary            92372800.0\n",
       "Partner_salary    29245100.0\n",
       "dtype: float64"
      ]
     },
     "execution_count": 22,
     "metadata": {},
     "output_type": "execute_result"
    }
   ],
   "source": [
    "data.agg({'Salary':'sum','Partner_salary':'sum'})"
   ]
  },
  {
   "cell_type": "markdown",
   "id": "6ce5373d",
   "metadata": {},
   "source": [
    "The relationship between Salary and No_of_Dependents columns having variations, as there is no sequence in salary with repsect to No_of_Dependents "
   ]
  },
  {
   "cell_type": "code",
   "execution_count": 23,
   "id": "a55e0b70",
   "metadata": {},
   "outputs": [
    {
     "data": {
      "text/html": [
       "<div>\n",
       "<style scoped>\n",
       "    .dataframe tbody tr th:only-of-type {\n",
       "        vertical-align: middle;\n",
       "    }\n",
       "\n",
       "    .dataframe tbody tr th {\n",
       "        vertical-align: top;\n",
       "    }\n",
       "\n",
       "    .dataframe thead th {\n",
       "        text-align: right;\n",
       "    }\n",
       "</style>\n",
       "<table border=\"1\" class=\"dataframe\">\n",
       "  <thead>\n",
       "    <tr style=\"text-align: right;\">\n",
       "      <th></th>\n",
       "      <th>Salary</th>\n",
       "    </tr>\n",
       "    <tr>\n",
       "      <th>No_of_Dependents</th>\n",
       "      <th></th>\n",
       "    </tr>\n",
       "  </thead>\n",
       "  <tbody>\n",
       "    <tr>\n",
       "      <th>0</th>\n",
       "      <td>1122500</td>\n",
       "    </tr>\n",
       "    <tr>\n",
       "      <th>1</th>\n",
       "      <td>13989400</td>\n",
       "    </tr>\n",
       "    <tr>\n",
       "      <th>2</th>\n",
       "      <td>33050100</td>\n",
       "    </tr>\n",
       "    <tr>\n",
       "      <th>3</th>\n",
       "      <td>31543000</td>\n",
       "    </tr>\n",
       "    <tr>\n",
       "      <th>4</th>\n",
       "      <td>12667800</td>\n",
       "    </tr>\n",
       "  </tbody>\n",
       "</table>\n",
       "</div>"
      ],
      "text/plain": [
       "                    Salary\n",
       "No_of_Dependents          \n",
       "0                  1122500\n",
       "1                 13989400\n",
       "2                 33050100\n",
       "3                 31543000\n",
       "4                 12667800"
      ]
     },
     "execution_count": 23,
     "metadata": {},
     "output_type": "execute_result"
    }
   ],
   "source": [
    "data.groupby(['No_of_Dependents']).agg({'Salary': 'sum'})"
   ]
  },
  {
   "cell_type": "code",
   "execution_count": 24,
   "id": "79a86d42",
   "metadata": {},
   "outputs": [
    {
     "data": {
      "text/html": [
       "<div>\n",
       "<style scoped>\n",
       "    .dataframe tbody tr th:only-of-type {\n",
       "        vertical-align: middle;\n",
       "    }\n",
       "\n",
       "    .dataframe tbody tr th {\n",
       "        vertical-align: top;\n",
       "    }\n",
       "\n",
       "    .dataframe thead th {\n",
       "        text-align: right;\n",
       "    }\n",
       "</style>\n",
       "<table border=\"1\" class=\"dataframe\">\n",
       "  <thead>\n",
       "    <tr style=\"text-align: right;\">\n",
       "      <th></th>\n",
       "      <th>Total_salary</th>\n",
       "    </tr>\n",
       "    <tr>\n",
       "      <th>No_of_Dependents</th>\n",
       "      <th></th>\n",
       "    </tr>\n",
       "  </thead>\n",
       "  <tbody>\n",
       "    <tr>\n",
       "      <th>0</th>\n",
       "      <td>1122500</td>\n",
       "    </tr>\n",
       "    <tr>\n",
       "      <th>1</th>\n",
       "      <td>17286500</td>\n",
       "    </tr>\n",
       "    <tr>\n",
       "      <th>2</th>\n",
       "      <td>43919600</td>\n",
       "    </tr>\n",
       "    <tr>\n",
       "      <th>3</th>\n",
       "      <td>41919500</td>\n",
       "    </tr>\n",
       "    <tr>\n",
       "      <th>4</th>\n",
       "      <td>17945700</td>\n",
       "    </tr>\n",
       "  </tbody>\n",
       "</table>\n",
       "</div>"
      ],
      "text/plain": [
       "                  Total_salary\n",
       "No_of_Dependents              \n",
       "0                      1122500\n",
       "1                     17286500\n",
       "2                     43919600\n",
       "3                     41919500\n",
       "4                     17945700"
      ]
     },
     "execution_count": 24,
     "metadata": {},
     "output_type": "execute_result"
    }
   ],
   "source": [
    "data.groupby(['No_of_Dependents']).agg({'Total_salary':'sum'})"
   ]
  },
  {
   "cell_type": "markdown",
   "id": "ad528abf",
   "metadata": {},
   "source": [
    "5. Employees working on the existing marketing campaign have made the following remarks. Based on the data and your analysis state whether you agree or disagree with their observations. Justify your answer Based on the data available.\n",
    "\n",
    "    5.1 Steve Roger says “Men prefer SUV by a large margin, compared to the women”\n",
    "\n",
    "      Conclusion: Steve Roger statement can be concluded incorrect, as we can see in the below graph, female prefer to    buy SUV when compared to other two make."
   ]
  },
  {
   "cell_type": "code",
   "execution_count": 25,
   "id": "86457f75",
   "metadata": {},
   "outputs": [
    {
     "data": {
      "text/plain": [
       "<AxesSubplot:xlabel='Make', ylabel='count'>"
      ]
     },
     "execution_count": 25,
     "metadata": {},
     "output_type": "execute_result"
    },
    {
     "data": {
      "image/png": "[encoded data removed]",
      "text/plain": [
       "<Figure size 432x288 with 1 Axes>"
      ]
     },
     "metadata": {
      "needs_background": "light"
     },
     "output_type": "display_data"
    }
   ],
   "source": [
    "sns.countplot(data = data, x = 'Make', order = data['Make'].value_counts().index, hue = 'Gender')"
   ]
  },
  {
   "cell_type": "code",
   "execution_count": 26,
   "id": "e00b264c",
   "metadata": {},
   "outputs": [
    {
     "data": {
      "text/html": [
       "<div>\n",
       "<style scoped>\n",
       "    .dataframe tbody tr th:only-of-type {\n",
       "        vertical-align: middle;\n",
       "    }\n",
       "\n",
       "    .dataframe tbody tr th {\n",
       "        vertical-align: top;\n",
       "    }\n",
       "\n",
       "    .dataframe thead th {\n",
       "        text-align: right;\n",
       "    }\n",
       "</style>\n",
       "<table border=\"1\" class=\"dataframe\">\n",
       "  <thead>\n",
       "    <tr style=\"text-align: right;\">\n",
       "      <th></th>\n",
       "      <th></th>\n",
       "      <th>Make</th>\n",
       "    </tr>\n",
       "    <tr>\n",
       "      <th>Gender</th>\n",
       "      <th>Make</th>\n",
       "      <th></th>\n",
       "    </tr>\n",
       "  </thead>\n",
       "  <tbody>\n",
       "    <tr>\n",
       "      <th rowspan=\"3\" valign=\"top\">Female</th>\n",
       "      <th>Hatchback</th>\n",
       "      <td>15</td>\n",
       "    </tr>\n",
       "    <tr>\n",
       "      <th>SUV</th>\n",
       "      <td>173</td>\n",
       "    </tr>\n",
       "    <tr>\n",
       "      <th>Sedan</th>\n",
       "      <td>141</td>\n",
       "    </tr>\n",
       "    <tr>\n",
       "      <th rowspan=\"3\" valign=\"top\">Male</th>\n",
       "      <th>Hatchback</th>\n",
       "      <td>565</td>\n",
       "    </tr>\n",
       "    <tr>\n",
       "      <th>SUV</th>\n",
       "      <td>118</td>\n",
       "    </tr>\n",
       "    <tr>\n",
       "      <th>Sedan</th>\n",
       "      <td>516</td>\n",
       "    </tr>\n",
       "  </tbody>\n",
       "</table>\n",
       "</div>"
      ],
      "text/plain": [
       "                  Make\n",
       "Gender Make           \n",
       "Female Hatchback    15\n",
       "       SUV         173\n",
       "       Sedan       141\n",
       "Male   Hatchback   565\n",
       "       SUV         118\n",
       "       Sedan       516"
      ]
     },
     "execution_count": 26,
     "metadata": {},
     "output_type": "execute_result"
    }
   ],
   "source": [
    "data.groupby(['Gender','Make']).agg({'Make':'count'})"
   ]
  },
  {
   "cell_type": "markdown",
   "id": "0cc41898",
   "metadata": {},
   "source": [
    "5.2 Ned Stark believes that a salaried person is more likely to buy a Sedan.\n",
    "\n",
    "   Conclusion: Ned Stark statement is true, as we can see in the below table, salaried person is more likely to buy SEDAN than other two makes."
   ]
  },
  {
   "cell_type": "code",
   "execution_count": 27,
   "id": "8362365d",
   "metadata": {
    "scrolled": true
   },
   "outputs": [
    {
     "data": {
      "text/html": [
       "<div>\n",
       "<style scoped>\n",
       "    .dataframe tbody tr th:only-of-type {\n",
       "        vertical-align: middle;\n",
       "    }\n",
       "\n",
       "    .dataframe tbody tr th {\n",
       "        vertical-align: top;\n",
       "    }\n",
       "\n",
       "    .dataframe thead th {\n",
       "        text-align: right;\n",
       "    }\n",
       "</style>\n",
       "<table border=\"1\" class=\"dataframe\">\n",
       "  <thead>\n",
       "    <tr style=\"text-align: right;\">\n",
       "      <th></th>\n",
       "      <th></th>\n",
       "      <th>Make</th>\n",
       "    </tr>\n",
       "    <tr>\n",
       "      <th>Profession</th>\n",
       "      <th>Make</th>\n",
       "      <th></th>\n",
       "    </tr>\n",
       "  </thead>\n",
       "  <tbody>\n",
       "    <tr>\n",
       "      <th rowspan=\"3\" valign=\"top\">Business</th>\n",
       "      <th>Hatchback</th>\n",
       "      <td>289</td>\n",
       "    </tr>\n",
       "    <tr>\n",
       "      <th>SUV</th>\n",
       "      <td>88</td>\n",
       "    </tr>\n",
       "    <tr>\n",
       "      <th>Sedan</th>\n",
       "      <td>287</td>\n",
       "    </tr>\n",
       "    <tr>\n",
       "      <th rowspan=\"3\" valign=\"top\">Salaried</th>\n",
       "      <th>Hatchback</th>\n",
       "      <td>291</td>\n",
       "    </tr>\n",
       "    <tr>\n",
       "      <th>SUV</th>\n",
       "      <td>203</td>\n",
       "    </tr>\n",
       "    <tr>\n",
       "      <th>Sedan</th>\n",
       "      <td>370</td>\n",
       "    </tr>\n",
       "  </tbody>\n",
       "</table>\n",
       "</div>"
      ],
      "text/plain": [
       "                      Make\n",
       "Profession Make           \n",
       "Business   Hatchback   289\n",
       "           SUV          88\n",
       "           Sedan       287\n",
       "Salaried   Hatchback   291\n",
       "           SUV         203\n",
       "           Sedan       370"
      ]
     },
     "execution_count": 27,
     "metadata": {},
     "output_type": "execute_result"
    }
   ],
   "source": [
    "data.groupby(['Profession','Make']).agg({'Make':'count'})"
   ]
  },
  {
   "cell_type": "markdown",
   "id": "3a12e385",
   "metadata": {},
   "source": [
    "5.3 Sheldon Cooper does not believe any of them; he claims that a salaried male is an easier target for a SUV sale over a Sedan Sale.\n",
    "\n",
    "   Conclusion: The statement by Sheldon Cooper is incorrect, as we can see from the below table, salaried male prefers to buy 'SEDAN' than ‘SUV’."
   ]
  },
  {
   "cell_type": "code",
   "execution_count": 28,
   "id": "589425a6",
   "metadata": {
    "scrolled": true
   },
   "outputs": [
    {
     "data": {
      "text/html": [
       "<div>\n",
       "<style scoped>\n",
       "    .dataframe tbody tr th:only-of-type {\n",
       "        vertical-align: middle;\n",
       "    }\n",
       "\n",
       "    .dataframe tbody tr th {\n",
       "        vertical-align: top;\n",
       "    }\n",
       "\n",
       "    .dataframe thead th {\n",
       "        text-align: right;\n",
       "    }\n",
       "</style>\n",
       "<table border=\"1\" class=\"dataframe\">\n",
       "  <thead>\n",
       "    <tr style=\"text-align: right;\">\n",
       "      <th></th>\n",
       "      <th></th>\n",
       "      <th></th>\n",
       "      <th>Make</th>\n",
       "    </tr>\n",
       "    <tr>\n",
       "      <th>Profession</th>\n",
       "      <th>Gender</th>\n",
       "      <th>Make</th>\n",
       "      <th></th>\n",
       "    </tr>\n",
       "  </thead>\n",
       "  <tbody>\n",
       "    <tr>\n",
       "      <th rowspan=\"5\" valign=\"top\">Business</th>\n",
       "      <th rowspan=\"2\" valign=\"top\">Female</th>\n",
       "      <th>SUV</th>\n",
       "      <td>55</td>\n",
       "    </tr>\n",
       "    <tr>\n",
       "      <th>Sedan</th>\n",
       "      <td>50</td>\n",
       "    </tr>\n",
       "    <tr>\n",
       "      <th rowspan=\"3\" valign=\"top\">Male</th>\n",
       "      <th>Hatchback</th>\n",
       "      <td>289</td>\n",
       "    </tr>\n",
       "    <tr>\n",
       "      <th>SUV</th>\n",
       "      <td>33</td>\n",
       "    </tr>\n",
       "    <tr>\n",
       "      <th>Sedan</th>\n",
       "      <td>237</td>\n",
       "    </tr>\n",
       "    <tr>\n",
       "      <th rowspan=\"6\" valign=\"top\">Salaried</th>\n",
       "      <th rowspan=\"3\" valign=\"top\">Female</th>\n",
       "      <th>Hatchback</th>\n",
       "      <td>15</td>\n",
       "    </tr>\n",
       "    <tr>\n",
       "      <th>SUV</th>\n",
       "      <td>118</td>\n",
       "    </tr>\n",
       "    <tr>\n",
       "      <th>Sedan</th>\n",
       "      <td>91</td>\n",
       "    </tr>\n",
       "    <tr>\n",
       "      <th rowspan=\"3\" valign=\"top\">Male</th>\n",
       "      <th>Hatchback</th>\n",
       "      <td>276</td>\n",
       "    </tr>\n",
       "    <tr>\n",
       "      <th>SUV</th>\n",
       "      <td>85</td>\n",
       "    </tr>\n",
       "    <tr>\n",
       "      <th>Sedan</th>\n",
       "      <td>279</td>\n",
       "    </tr>\n",
       "  </tbody>\n",
       "</table>\n",
       "</div>"
      ],
      "text/plain": [
       "                             Make\n",
       "Profession Gender Make           \n",
       "Business   Female SUV          55\n",
       "                  Sedan        50\n",
       "           Male   Hatchback   289\n",
       "                  SUV          33\n",
       "                  Sedan       237\n",
       "Salaried   Female Hatchback    15\n",
       "                  SUV         118\n",
       "                  Sedan        91\n",
       "           Male   Hatchback   276\n",
       "                  SUV          85\n",
       "                  Sedan       279"
      ]
     },
     "execution_count": 28,
     "metadata": {},
     "output_type": "execute_result"
    }
   ],
   "source": [
    "data.groupby(['Profession','Gender','Make']\n",
    "                ).agg({'Make':'count'})"
   ]
  },
  {
   "cell_type": "markdown",
   "id": "6024fcce",
   "metadata": {},
   "source": [
    "F. From the given data, comment on the amount spent on purchasing automobiles across the following categories. Comment on how a Business can utilize the results from this exercise. Give justification along with presenting metrics/charts used for arriving at the conclusions.\n",
    "\n",
    "\n",
    "\n",
    "Give justification along with presenting metrics/charts used for arriving at the conclusions.\n"
   ]
  },
  {
   "cell_type": "markdown",
   "id": "6c43008f",
   "metadata": {},
   "source": [
    "F1) Gender: \n",
    "\n",
    "When comparing price of make with respect to gender, the ampunt spent to buy automobiles as clear diffrence between male and female. Amount spent by Male is 2 times more than female. Hence Automobile Companies can target Male customers while making personalized ads and promotion. And also Automobile companies need to come up with different strategies to attract female customers."
   ]
  },
  {
   "cell_type": "code",
   "execution_count": 29,
   "id": "f758780d",
   "metadata": {},
   "outputs": [
    {
     "data": {
      "text/html": [
       "<div>\n",
       "<style scoped>\n",
       "    .dataframe tbody tr th:only-of-type {\n",
       "        vertical-align: middle;\n",
       "    }\n",
       "\n",
       "    .dataframe tbody tr th {\n",
       "        vertical-align: top;\n",
       "    }\n",
       "\n",
       "    .dataframe thead th {\n",
       "        text-align: right;\n",
       "    }\n",
       "</style>\n",
       "<table border=\"1\" class=\"dataframe\">\n",
       "  <thead>\n",
       "    <tr style=\"text-align: right;\">\n",
       "      <th></th>\n",
       "      <th>Price</th>\n",
       "    </tr>\n",
       "    <tr>\n",
       "      <th>Gender</th>\n",
       "      <th></th>\n",
       "    </tr>\n",
       "  </thead>\n",
       "  <tbody>\n",
       "    <tr>\n",
       "      <th>Female</th>\n",
       "      <td>15695000</td>\n",
       "    </tr>\n",
       "    <tr>\n",
       "      <th>Male</th>\n",
       "      <td>39348000</td>\n",
       "    </tr>\n",
       "  </tbody>\n",
       "</table>\n",
       "</div>"
      ],
      "text/plain": [
       "           Price\n",
       "Gender          \n",
       "Female  15695000\n",
       "Male    39348000"
      ]
     },
     "execution_count": 29,
     "metadata": {},
     "output_type": "execute_result"
    }
   ],
   "source": [
    "data.groupby(['Gender']).agg({'Price':'sum'})"
   ]
  },
  {
   "cell_type": "markdown",
   "id": "7bf92ec7",
   "metadata": {},
   "source": [
    "F2) Personal_loan:\n",
    "\n",
    "According to above analysis amount spent on purchase of automobiles in case of person having Personal_loan Yes or NO doesn't make much difference as the values of both fields are almost similar. Hence, Company can concentrate on both type of customers."
   ]
  },
  {
   "cell_type": "code",
   "execution_count": 30,
   "id": "17088455",
   "metadata": {},
   "outputs": [
    {
     "data": {
      "text/html": [
       "<div>\n",
       "<style scoped>\n",
       "    .dataframe tbody tr th:only-of-type {\n",
       "        vertical-align: middle;\n",
       "    }\n",
       "\n",
       "    .dataframe tbody tr th {\n",
       "        vertical-align: top;\n",
       "    }\n",
       "\n",
       "    .dataframe thead th {\n",
       "        text-align: right;\n",
       "    }\n",
       "</style>\n",
       "<table border=\"1\" class=\"dataframe\">\n",
       "  <thead>\n",
       "    <tr style=\"text-align: right;\">\n",
       "      <th></th>\n",
       "      <th>Price</th>\n",
       "    </tr>\n",
       "    <tr>\n",
       "      <th>Personal_loan</th>\n",
       "      <th></th>\n",
       "    </tr>\n",
       "  </thead>\n",
       "  <tbody>\n",
       "    <tr>\n",
       "      <th>No</th>\n",
       "      <td>28399000</td>\n",
       "    </tr>\n",
       "    <tr>\n",
       "      <th>Yes</th>\n",
       "      <td>26644000</td>\n",
       "    </tr>\n",
       "  </tbody>\n",
       "</table>\n",
       "</div>"
      ],
      "text/plain": [
       "                  Price\n",
       "Personal_loan          \n",
       "No             28399000\n",
       "Yes            26644000"
      ]
     },
     "execution_count": 30,
     "metadata": {},
     "output_type": "execute_result"
    }
   ],
   "source": [
    "data.groupby('Personal_loan').agg({'Price':'sum'})"
   ]
  },
  {
   "cell_type": "markdown",
   "id": "99f213f4",
   "metadata": {},
   "source": [
    "G. From the current data set comment if having a working partner leads to the purchase of a higher-priced car.\n",
    "\n",
    "No, There is clear evidence from the current dataset, the data having working partner does not leads to buy higher-priced car.\n",
    "\n",
    "From the below graph we can see the higher priced car is SUV\n",
    "\n",
    "Below the graph there is table tells the count of each make with respect to Partner_working status. The number tells when data having working partner leads to buy either Hatchback or Sedan, both make as higher counts when compared to SUV "
   ]
  },
  {
   "cell_type": "code",
   "execution_count": 31,
   "id": "e6d57acb",
   "metadata": {},
   "outputs": [
    {
     "data": {
      "text/plain": [
       "<AxesSubplot:xlabel='Make', ylabel='Price'>"
      ]
     },
     "execution_count": 31,
     "metadata": {},
     "output_type": "execute_result"
    },
    {
     "data": {
      "image/png": "[encoded data removed]",
      "text/plain": [
       "<Figure size 432x288 with 1 Axes>"
      ]
     },
     "metadata": {
      "needs_background": "light"
     },
     "output_type": "display_data"
    }
   ],
   "source": [
    "sns.barplot(x = 'Make', y = 'Price', data=data)"
   ]
  },
  {
   "cell_type": "code",
   "execution_count": 32,
   "id": "088e5c89",
   "metadata": {
    "scrolled": true
   },
   "outputs": [
    {
     "data": {
      "text/html": [
       "<div>\n",
       "<style scoped>\n",
       "    .dataframe tbody tr th:only-of-type {\n",
       "        vertical-align: middle;\n",
       "    }\n",
       "\n",
       "    .dataframe tbody tr th {\n",
       "        vertical-align: top;\n",
       "    }\n",
       "\n",
       "    .dataframe thead th {\n",
       "        text-align: right;\n",
       "    }\n",
       "</style>\n",
       "<table border=\"1\" class=\"dataframe\">\n",
       "  <thead>\n",
       "    <tr style=\"text-align: right;\">\n",
       "      <th></th>\n",
       "      <th></th>\n",
       "      <th>Make</th>\n",
       "    </tr>\n",
       "    <tr>\n",
       "      <th>Partner_working</th>\n",
       "      <th>Make</th>\n",
       "      <th></th>\n",
       "    </tr>\n",
       "  </thead>\n",
       "  <tbody>\n",
       "    <tr>\n",
       "      <th rowspan=\"3\" valign=\"top\">No</th>\n",
       "      <th>Hatchback</th>\n",
       "      <td>279</td>\n",
       "    </tr>\n",
       "    <tr>\n",
       "      <th>SUV</th>\n",
       "      <td>141</td>\n",
       "    </tr>\n",
       "    <tr>\n",
       "      <th>Sedan</th>\n",
       "      <td>270</td>\n",
       "    </tr>\n",
       "    <tr>\n",
       "      <th rowspan=\"3\" valign=\"top\">Yes</th>\n",
       "      <th>Hatchback</th>\n",
       "      <td>301</td>\n",
       "    </tr>\n",
       "    <tr>\n",
       "      <th>SUV</th>\n",
       "      <td>150</td>\n",
       "    </tr>\n",
       "    <tr>\n",
       "      <th>Sedan</th>\n",
       "      <td>387</td>\n",
       "    </tr>\n",
       "  </tbody>\n",
       "</table>\n",
       "</div>"
      ],
      "text/plain": [
       "                           Make\n",
       "Partner_working Make           \n",
       "No              Hatchback   279\n",
       "                SUV         141\n",
       "                Sedan       270\n",
       "Yes             Hatchback   301\n",
       "                SUV         150\n",
       "                Sedan       387"
      ]
     },
     "execution_count": 32,
     "metadata": {},
     "output_type": "execute_result"
    }
   ],
   "source": [
    "data.groupby(['Partner_working','Make']).agg({'Make':'count'})"
   ]
  },
  {
   "cell_type": "markdown",
   "id": "64ba0490",
   "metadata": {},
   "source": [
    "H. The main objective of this analysis is to devise an improved marketing strategy to send targeted information to different groups of potential buyers present in the data. For the current analysis use the Gender and Marital_status - fields to arrive at groups with similar purchase history."
   ]
  },
  {
   "cell_type": "markdown",
   "id": "d8108ce8",
   "metadata": {},
   "source": [
    "From the above table and graph, we can see the groups for Gender and Marital Status with respect to their preferred make or buy.\n",
    "1.\tSingle Male preferred make:\n",
    "\n",
    "Hatchback is most preferred make for single Male\n",
    "\n",
    "2.\tMarried Male preferred make:\n",
    "\n",
    "Married Male is either prefers Hatchback or Sedan as the numbers for both make are nearly close.\n",
    "\n",
    "3.\tSingle Female preferred make:\n",
    "\n",
    "Single Female customers hardly buy cars as the number tells only 22 out of 1528 which is not even 2%. And their most preferred make is Sedan\n",
    "\n",
    "4.\tMarried Female preferred make:\n",
    "\n",
    "Married Female more often buy SUV when compared to other two makes. Hatchback make are least preferred here.\n",
    "\n"
   ]
  },
  {
   "cell_type": "code",
   "execution_count": 33,
   "id": "f036952f",
   "metadata": {},
   "outputs": [
    {
     "data": {
      "text/html": [
       "<div>\n",
       "<style scoped>\n",
       "    .dataframe tbody tr th:only-of-type {\n",
       "        vertical-align: middle;\n",
       "    }\n",
       "\n",
       "    .dataframe tbody tr th {\n",
       "        vertical-align: top;\n",
       "    }\n",
       "\n",
       "    .dataframe thead th {\n",
       "        text-align: right;\n",
       "    }\n",
       "</style>\n",
       "<table border=\"1\" class=\"dataframe\">\n",
       "  <thead>\n",
       "    <tr style=\"text-align: right;\">\n",
       "      <th></th>\n",
       "      <th></th>\n",
       "      <th></th>\n",
       "      <th>Make</th>\n",
       "    </tr>\n",
       "    <tr>\n",
       "      <th>Gender</th>\n",
       "      <th>Marital_status</th>\n",
       "      <th>Make</th>\n",
       "      <th></th>\n",
       "    </tr>\n",
       "  </thead>\n",
       "  <tbody>\n",
       "    <tr>\n",
       "      <th rowspan=\"6\" valign=\"top\">Female</th>\n",
       "      <th rowspan=\"3\" valign=\"top\">Married</th>\n",
       "      <th>Hatchback</th>\n",
       "      <td>14</td>\n",
       "    </tr>\n",
       "    <tr>\n",
       "      <th>SUV</th>\n",
       "      <td>166</td>\n",
       "    </tr>\n",
       "    <tr>\n",
       "      <th>Sedan</th>\n",
       "      <td>127</td>\n",
       "    </tr>\n",
       "    <tr>\n",
       "      <th rowspan=\"3\" valign=\"top\">Single</th>\n",
       "      <th>Hatchback</th>\n",
       "      <td>1</td>\n",
       "    </tr>\n",
       "    <tr>\n",
       "      <th>SUV</th>\n",
       "      <td>7</td>\n",
       "    </tr>\n",
       "    <tr>\n",
       "      <th>Sedan</th>\n",
       "      <td>14</td>\n",
       "    </tr>\n",
       "    <tr>\n",
       "      <th rowspan=\"6\" valign=\"top\">Male</th>\n",
       "      <th rowspan=\"3\" valign=\"top\">Married</th>\n",
       "      <th>Hatchback</th>\n",
       "      <td>484</td>\n",
       "    </tr>\n",
       "    <tr>\n",
       "      <th>SUV</th>\n",
       "      <td>111</td>\n",
       "    </tr>\n",
       "    <tr>\n",
       "      <th>Sedan</th>\n",
       "      <td>493</td>\n",
       "    </tr>\n",
       "    <tr>\n",
       "      <th rowspan=\"3\" valign=\"top\">Single</th>\n",
       "      <th>Hatchback</th>\n",
       "      <td>81</td>\n",
       "    </tr>\n",
       "    <tr>\n",
       "      <th>SUV</th>\n",
       "      <td>7</td>\n",
       "    </tr>\n",
       "    <tr>\n",
       "      <th>Sedan</th>\n",
       "      <td>23</td>\n",
       "    </tr>\n",
       "  </tbody>\n",
       "</table>\n",
       "</div>"
      ],
      "text/plain": [
       "                                 Make\n",
       "Gender Marital_status Make           \n",
       "Female Married        Hatchback    14\n",
       "                      SUV         166\n",
       "                      Sedan       127\n",
       "       Single         Hatchback     1\n",
       "                      SUV           7\n",
       "                      Sedan        14\n",
       "Male   Married        Hatchback   484\n",
       "                      SUV         111\n",
       "                      Sedan       493\n",
       "       Single         Hatchback    81\n",
       "                      SUV           7\n",
       "                      Sedan        23"
      ]
     },
     "execution_count": 33,
     "metadata": {},
     "output_type": "execute_result"
    }
   ],
   "source": [
    "data.groupby(['Gender','Marital_status','Make']).agg({'Make':'count'})"
   ]
  },
  {
   "cell_type": "code",
   "execution_count": 34,
   "id": "37020e41",
   "metadata": {},
   "outputs": [
    {
     "data": {
      "text/plain": [
       "<AxesSubplot:ylabel='Gender,Marital_status,Make'>"
      ]
     },
     "execution_count": 34,
     "metadata": {},
     "output_type": "execute_result"
    },
    {
     "data": {
      "image/png": "[encoded data removed]",
      "text/plain": [
       "<Figure size 432x288 with 1 Axes>"
      ]
     },
     "metadata": {
      "needs_background": "light"
     },
     "output_type": "display_data"
    }
   ],
   "source": [
    "data.groupby(['Gender','Marital_status']).agg({'Make':'value_counts'}).plot(kind = 'barh')"
   ]
  },
  {
   "cell_type": "code",
   "execution_count": 35,
   "id": "7229f39e",
   "metadata": {},
   "outputs": [
    {
     "data": {
      "text/plain": [
       "<AxesSubplot:xlabel='Make', ylabel='count'>"
      ]
     },
     "execution_count": 35,
     "metadata": {},
     "output_type": "execute_result"
    },
    {
     "data": {
      "image/png": "[encoded data removed]",
      "text/plain": [
       "<Figure size 432x288 with 1 Axes>"
      ]
     },
     "metadata": {
      "needs_background": "light"
     },
     "output_type": "display_data"
    }
   ],
   "source": [
    "sns.countplot(data = data, x = 'Make', hue = 'Marital_status')"
   ]
  },
  {
   "cell_type": "markdown",
   "id": "4db0707e",
   "metadata": {},
   "source": [
    "with respect to female and marital status is married:\n",
    "    SUV are most preferred"
   ]
  },
  {
   "cell_type": "code",
   "execution_count": null,
   "id": "1337f20c",
   "metadata": {},
   "outputs": [],
   "source": []
  },
  {
   "cell_type": "markdown",
   "id": "377566c9",
   "metadata": {},
   "source": [
    "Problem 2"
   ]
  },
  {
   "cell_type": "code",
   "execution_count": 36,
   "id": "536cb776",
   "metadata": {},
   "outputs": [],
   "source": [
    "card = pd.read_excel('godigt_cc_data.xlsx')"
   ]
  },
  {
   "cell_type": "code",
   "execution_count": 37,
   "id": "f317dcfd",
   "metadata": {},
   "outputs": [
    {
     "data": {
      "text/html": [
       "<div>\n",
       "<style scoped>\n",
       "    .dataframe tbody tr th:only-of-type {\n",
       "        vertical-align: middle;\n",
       "    }\n",
       "\n",
       "    .dataframe tbody tr th {\n",
       "        vertical-align: top;\n",
       "    }\n",
       "\n",
       "    .dataframe thead th {\n",
       "        text-align: right;\n",
       "    }\n",
       "</style>\n",
       "<table border=\"1\" class=\"dataframe\">\n",
       "  <thead>\n",
       "    <tr style=\"text-align: right;\">\n",
       "      <th></th>\n",
       "      <th>userid</th>\n",
       "      <th>card_no</th>\n",
       "      <th>card_bin_no</th>\n",
       "      <th>Issuer</th>\n",
       "      <th>card_type</th>\n",
       "      <th>card_source_date</th>\n",
       "      <th>high_networth</th>\n",
       "      <th>active_30</th>\n",
       "      <th>active_60</th>\n",
       "      <th>active_90</th>\n",
       "      <th>...</th>\n",
       "      <th>bank_vintage</th>\n",
       "      <th>T+1_month_activity</th>\n",
       "      <th>T+2_month_activity</th>\n",
       "      <th>T+3_month_activity</th>\n",
       "      <th>T+6_month_activity</th>\n",
       "      <th>T+12_month_activity</th>\n",
       "      <th>Transactor_revolver</th>\n",
       "      <th>avg_spends_l3m</th>\n",
       "      <th>Occupation_at_source</th>\n",
       "      <th>cc_limit</th>\n",
       "    </tr>\n",
       "  </thead>\n",
       "  <tbody>\n",
       "    <tr>\n",
       "      <th>0</th>\n",
       "      <td>1</td>\n",
       "      <td>4384 39XX XXXX XXXX</td>\n",
       "      <td>438439</td>\n",
       "      <td>Visa</td>\n",
       "      <td>edge</td>\n",
       "      <td>2019-09-29</td>\n",
       "      <td>B</td>\n",
       "      <td>0</td>\n",
       "      <td>1</td>\n",
       "      <td>1</td>\n",
       "      <td>...</td>\n",
       "      <td>27</td>\n",
       "      <td>0</td>\n",
       "      <td>0</td>\n",
       "      <td>0</td>\n",
       "      <td>0</td>\n",
       "      <td>0</td>\n",
       "      <td>T</td>\n",
       "      <td>27729</td>\n",
       "      <td>Self Employed</td>\n",
       "      <td>290000</td>\n",
       "    </tr>\n",
       "    <tr>\n",
       "      <th>1</th>\n",
       "      <td>2</td>\n",
       "      <td>4377 48XX XXXX XXXX</td>\n",
       "      <td>437748</td>\n",
       "      <td>Visa</td>\n",
       "      <td>prosperity</td>\n",
       "      <td>2002-10-30</td>\n",
       "      <td>A</td>\n",
       "      <td>1</td>\n",
       "      <td>1</td>\n",
       "      <td>1</td>\n",
       "      <td>...</td>\n",
       "      <td>52</td>\n",
       "      <td>0</td>\n",
       "      <td>0</td>\n",
       "      <td>0</td>\n",
       "      <td>0</td>\n",
       "      <td>0</td>\n",
       "      <td>R</td>\n",
       "      <td>280854</td>\n",
       "      <td>0</td>\n",
       "      <td>950000</td>\n",
       "    </tr>\n",
       "    <tr>\n",
       "      <th>2</th>\n",
       "      <td>3</td>\n",
       "      <td>4377 48XX XXXX XXXX</td>\n",
       "      <td>437748</td>\n",
       "      <td>Visa</td>\n",
       "      <td>rewards</td>\n",
       "      <td>2013-10-05</td>\n",
       "      <td>C</td>\n",
       "      <td>0</td>\n",
       "      <td>0</td>\n",
       "      <td>0</td>\n",
       "      <td>...</td>\n",
       "      <td>23</td>\n",
       "      <td>1</td>\n",
       "      <td>0</td>\n",
       "      <td>0</td>\n",
       "      <td>0</td>\n",
       "      <td>0</td>\n",
       "      <td>R</td>\n",
       "      <td>70587</td>\n",
       "      <td>Student</td>\n",
       "      <td>210000</td>\n",
       "    </tr>\n",
       "    <tr>\n",
       "      <th>3</th>\n",
       "      <td>4</td>\n",
       "      <td>4258 06XX XXXX XXXX</td>\n",
       "      <td>425806</td>\n",
       "      <td>Visa</td>\n",
       "      <td>indianoil</td>\n",
       "      <td>1999-06-01</td>\n",
       "      <td>E</td>\n",
       "      <td>0</td>\n",
       "      <td>1</td>\n",
       "      <td>1</td>\n",
       "      <td>...</td>\n",
       "      <td>49</td>\n",
       "      <td>0</td>\n",
       "      <td>0</td>\n",
       "      <td>1</td>\n",
       "      <td>0</td>\n",
       "      <td>0</td>\n",
       "      <td>T</td>\n",
       "      <td>9156</td>\n",
       "      <td>Self Employed</td>\n",
       "      <td>80000</td>\n",
       "    </tr>\n",
       "    <tr>\n",
       "      <th>4</th>\n",
       "      <td>5</td>\n",
       "      <td>4377 48XX XXXX XXXX</td>\n",
       "      <td>437748</td>\n",
       "      <td>Visa</td>\n",
       "      <td>edge</td>\n",
       "      <td>2006-06-13</td>\n",
       "      <td>B</td>\n",
       "      <td>1</td>\n",
       "      <td>1</td>\n",
       "      <td>1</td>\n",
       "      <td>...</td>\n",
       "      <td>21</td>\n",
       "      <td>1</td>\n",
       "      <td>0</td>\n",
       "      <td>0</td>\n",
       "      <td>0</td>\n",
       "      <td>0</td>\n",
       "      <td>T</td>\n",
       "      <td>38108</td>\n",
       "      <td>Salaried</td>\n",
       "      <td>220000</td>\n",
       "    </tr>\n",
       "  </tbody>\n",
       "</table>\n",
       "<p>5 rows × 28 columns</p>\n",
       "</div>"
      ],
      "text/plain": [
       "   userid              card_no  card_bin_no Issuer   card_type  \\\n",
       "0       1  4384 39XX XXXX XXXX       438439   Visa        edge   \n",
       "1       2  4377 48XX XXXX XXXX       437748   Visa  prosperity   \n",
       "2       3  4377 48XX XXXX XXXX       437748   Visa     rewards   \n",
       "3       4  4258 06XX XXXX XXXX       425806   Visa   indianoil   \n",
       "4       5  4377 48XX XXXX XXXX       437748   Visa        edge   \n",
       "\n",
       "  card_source_date high_networth  active_30  active_60  active_90  ...  \\\n",
       "0       2019-09-29             B          0          1          1  ...   \n",
       "1       2002-10-30             A          1          1          1  ...   \n",
       "2       2013-10-05             C          0          0          0  ...   \n",
       "3       1999-06-01             E          0          1          1  ...   \n",
       "4       2006-06-13             B          1          1          1  ...   \n",
       "\n",
       "   bank_vintage  T+1_month_activity  T+2_month_activity T+3_month_activity  \\\n",
       "0            27                   0                   0                  0   \n",
       "1            52                   0                   0                  0   \n",
       "2            23                   1                   0                  0   \n",
       "3            49                   0                   0                  1   \n",
       "4            21                   1                   0                  0   \n",
       "\n",
       "   T+6_month_activity  T+12_month_activity  Transactor_revolver  \\\n",
       "0                   0                    0                    T   \n",
       "1                   0                    0                    R   \n",
       "2                   0                    0                    R   \n",
       "3                   0                    0                    T   \n",
       "4                   0                    0                    T   \n",
       "\n",
       "  avg_spends_l3m  Occupation_at_source  cc_limit  \n",
       "0          27729         Self Employed    290000  \n",
       "1         280854                     0    950000  \n",
       "2          70587               Student    210000  \n",
       "3           9156         Self Employed     80000  \n",
       "4          38108              Salaried    220000  \n",
       "\n",
       "[5 rows x 28 columns]"
      ]
     },
     "execution_count": 37,
     "metadata": {},
     "output_type": "execute_result"
    }
   ],
   "source": [
    "card.head()"
   ]
  },
  {
   "cell_type": "code",
   "execution_count": 38,
   "id": "ec1a473f",
   "metadata": {},
   "outputs": [
    {
     "data": {
      "text/plain": [
       "(8448, 28)"
      ]
     },
     "execution_count": 38,
     "metadata": {},
     "output_type": "execute_result"
    }
   ],
   "source": [
    "card.shape"
   ]
  },
  {
   "cell_type": "code",
   "execution_count": 39,
   "id": "84ce6961",
   "metadata": {},
   "outputs": [
    {
     "name": "stdout",
     "output_type": "stream",
     "text": [
      "<class 'pandas.core.frame.DataFrame'>\n",
      "RangeIndex: 8448 entries, 0 to 8447\n",
      "Data columns (total 28 columns):\n",
      " #   Column                   Non-Null Count  Dtype         \n",
      "---  ------                   --------------  -----         \n",
      " 0   userid                   8448 non-null   int64         \n",
      " 1   card_no                  8448 non-null   object        \n",
      " 2   card_bin_no              8448 non-null   int64         \n",
      " 3   Issuer                   8448 non-null   object        \n",
      " 4   card_type                8448 non-null   object        \n",
      " 5   card_source_date         8448 non-null   datetime64[ns]\n",
      " 6   high_networth            8448 non-null   object        \n",
      " 7   active_30                8448 non-null   int64         \n",
      " 8   active_60                8448 non-null   int64         \n",
      " 9   active_90                8448 non-null   int64         \n",
      " 10  cc_active30              8448 non-null   int64         \n",
      " 11  cc_active60              8448 non-null   int64         \n",
      " 12  cc_active90              8448 non-null   int64         \n",
      " 13  hotlist_flag             8448 non-null   object        \n",
      " 14  widget_products          8448 non-null   int64         \n",
      " 15  engagement_products      8448 non-null   int64         \n",
      " 16  annual_income_at_source  8448 non-null   int64         \n",
      " 17  other_bank_cc_holding    8448 non-null   object        \n",
      " 18  bank_vintage             8448 non-null   int64         \n",
      " 19  T+1_month_activity       8448 non-null   int64         \n",
      " 20  T+2_month_activity       8448 non-null   int64         \n",
      " 21  T+3_month_activity       8448 non-null   int64         \n",
      " 22  T+6_month_activity       8448 non-null   int64         \n",
      " 23  T+12_month_activity      8448 non-null   int64         \n",
      " 24  Transactor_revolver      8410 non-null   object        \n",
      " 25  avg_spends_l3m           8448 non-null   int64         \n",
      " 26  Occupation_at_source     8448 non-null   object        \n",
      " 27  cc_limit                 8448 non-null   int64         \n",
      "dtypes: datetime64[ns](1), int64(19), object(8)\n",
      "memory usage: 1.8+ MB\n"
     ]
    }
   ],
   "source": [
    "card.info()"
   ]
  },
  {
   "cell_type": "code",
   "execution_count": 40,
   "id": "e41d1fe5",
   "metadata": {},
   "outputs": [
    {
     "data": {
      "text/plain": [
       "userid                      0\n",
       "card_no                     0\n",
       "card_bin_no                 0\n",
       "Issuer                      0\n",
       "card_type                   0\n",
       "card_source_date            0\n",
       "high_networth               0\n",
       "active_30                   0\n",
       "active_60                   0\n",
       "active_90                   0\n",
       "cc_active30                 0\n",
       "cc_active60                 0\n",
       "cc_active90                 0\n",
       "hotlist_flag                0\n",
       "widget_products             0\n",
       "engagement_products         0\n",
       "annual_income_at_source     0\n",
       "other_bank_cc_holding       0\n",
       "bank_vintage                0\n",
       "T+1_month_activity          0\n",
       "T+2_month_activity          0\n",
       "T+3_month_activity          0\n",
       "T+6_month_activity          0\n",
       "T+12_month_activity         0\n",
       "Transactor_revolver        38\n",
       "avg_spends_l3m              0\n",
       "Occupation_at_source        0\n",
       "cc_limit                    0\n",
       "dtype: int64"
      ]
     },
     "execution_count": 40,
     "metadata": {},
     "output_type": "execute_result"
    }
   ],
   "source": [
    "card.isna().sum()"
   ]
  },
  {
   "cell_type": "code",
   "execution_count": 41,
   "id": "93798317",
   "metadata": {},
   "outputs": [
    {
     "data": {
      "text/plain": [
       "Visa          7279\n",
       "Mastercard     728\n",
       "Amex           441\n",
       "Name: Issuer, dtype: int64"
      ]
     },
     "execution_count": 41,
     "metadata": {},
     "output_type": "execute_result"
    }
   ],
   "source": [
    "card['Issuer'].value_counts()"
   ]
  },
  {
   "cell_type": "code",
   "execution_count": 42,
   "id": "7d5459ca",
   "metadata": {},
   "outputs": [
    {
     "data": {
      "text/plain": [
       "Issuer      card_type \n",
       "Amex        gold           145\n",
       "            rewards         88\n",
       "            smartearn       87\n",
       "            centurion       62\n",
       "            platinum        59\n",
       "Mastercard  rewards        122\n",
       "            prime          111\n",
       "            pulse          101\n",
       "            elite           96\n",
       "            indianoil       65\n",
       "            cashback        63\n",
       "            shoprite        60\n",
       "            aura            58\n",
       "            smartearn       52\n",
       "Visa        rewards       1292\n",
       "            prosperity    1007\n",
       "            edge           980\n",
       "            chartered      923\n",
       "            shoprite       628\n",
       "            smartearn      626\n",
       "            indianoil      615\n",
       "            cashback       613\n",
       "            aura           594\n",
       "            prime            1\n",
       "Name: card_type, dtype: int64"
      ]
     },
     "execution_count": 42,
     "metadata": {},
     "output_type": "execute_result"
    }
   ],
   "source": [
    "card.groupby('Issuer')['card_type'].value_counts()"
   ]
  },
  {
   "cell_type": "code",
   "execution_count": 43,
   "id": "3933bf73",
   "metadata": {},
   "outputs": [
    {
     "data": {
      "text/html": [
       "<div>\n",
       "<style scoped>\n",
       "    .dataframe tbody tr th:only-of-type {\n",
       "        vertical-align: middle;\n",
       "    }\n",
       "\n",
       "    .dataframe tbody tr th {\n",
       "        vertical-align: top;\n",
       "    }\n",
       "\n",
       "    .dataframe thead th {\n",
       "        text-align: right;\n",
       "    }\n",
       "</style>\n",
       "<table border=\"1\" class=\"dataframe\">\n",
       "  <thead>\n",
       "    <tr style=\"text-align: right;\">\n",
       "      <th></th>\n",
       "      <th></th>\n",
       "      <th>avg_spends_l3m</th>\n",
       "    </tr>\n",
       "    <tr>\n",
       "      <th>Occupation_at_source</th>\n",
       "      <th>card_type</th>\n",
       "      <th></th>\n",
       "    </tr>\n",
       "  </thead>\n",
       "  <tbody>\n",
       "    <tr>\n",
       "      <th rowspan=\"5\" valign=\"top\">0</th>\n",
       "      <th>centurion</th>\n",
       "      <td>672033</td>\n",
       "    </tr>\n",
       "    <tr>\n",
       "      <th>chartered</th>\n",
       "      <td>7022811</td>\n",
       "    </tr>\n",
       "    <tr>\n",
       "      <th>edge</th>\n",
       "      <td>8124744</td>\n",
       "    </tr>\n",
       "    <tr>\n",
       "      <th>elite</th>\n",
       "      <td>990120</td>\n",
       "    </tr>\n",
       "    <tr>\n",
       "      <th>gold</th>\n",
       "      <td>256274</td>\n",
       "    </tr>\n",
       "    <tr>\n",
       "      <th>...</th>\n",
       "      <th>...</th>\n",
       "      <td>...</td>\n",
       "    </tr>\n",
       "    <tr>\n",
       "      <th rowspan=\"5\" valign=\"top\">Student</th>\n",
       "      <th>prosperity</th>\n",
       "      <td>5400045</td>\n",
       "    </tr>\n",
       "    <tr>\n",
       "      <th>pulse</th>\n",
       "      <td>895955</td>\n",
       "    </tr>\n",
       "    <tr>\n",
       "      <th>rewards</th>\n",
       "      <td>3497993</td>\n",
       "    </tr>\n",
       "    <tr>\n",
       "      <th>shoprite</th>\n",
       "      <td>1630079</td>\n",
       "    </tr>\n",
       "    <tr>\n",
       "      <th>smartearn</th>\n",
       "      <td>1609854</td>\n",
       "    </tr>\n",
       "  </tbody>\n",
       "</table>\n",
       "<p>77 rows × 1 columns</p>\n",
       "</div>"
      ],
      "text/plain": [
       "                                 avg_spends_l3m\n",
       "Occupation_at_source card_type                 \n",
       "0                    centurion           672033\n",
       "                     chartered          7022811\n",
       "                     edge               8124744\n",
       "                     elite               990120\n",
       "                     gold                256274\n",
       "...                                         ...\n",
       "Student              prosperity         5400045\n",
       "                     pulse               895955\n",
       "                     rewards            3497993\n",
       "                     shoprite           1630079\n",
       "                     smartearn          1609854\n",
       "\n",
       "[77 rows x 1 columns]"
      ]
     },
     "execution_count": 43,
     "metadata": {},
     "output_type": "execute_result"
    }
   ],
   "source": [
    "card.groupby(['Occupation_at_source','card_type']).agg({'avg_spends_l3m' : 'sum'})"
   ]
  },
  {
   "cell_type": "code",
   "execution_count": null,
   "id": "42807ca5",
   "metadata": {},
   "outputs": [],
   "source": []
  }
 ],
 "metadata": {
  "kernelspec": {
   "display_name": "Python 3 (ipykernel)",
   "language": "python",
   "name": "python3"
  },
  "language_info": {
   "codemirror_mode": {
    "name": "ipython",
    "version": 3
   },
   "file_extension": ".py",
   "mimetype": "text/x-python",
   "name": "python",
   "nbconvert_exporter": "python",
   "pygments_lexer": "ipython3",
   "version": "3.9.12"
  }
 },
 "nbformat": 4,
 "nbformat_minor": 5
}
